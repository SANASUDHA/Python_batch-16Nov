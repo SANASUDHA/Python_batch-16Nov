{
 "cells": [
  {
   "cell_type": "markdown",
   "metadata": {},
   "source": [
    "#### Python Libraries For Data Science\n",
    "- processing and analysing the data.There are nearly 20 python libraries for Data Science.Top five python libraries are\n",
    "- 1. TensorFlow\n",
    "- 2. Numpy\n",
    "- 3. Scipy\n",
    "- 4. Pandas\n",
    "- 5. Matplotlib"
   ]
  },
  {
   "cell_type": "markdown",
   "metadata": {},
   "source": [
    "#### Numpy\n",
    "- Numerical Python is a base N-dimensional array package, is a python library.It is used to create multidimensional arrays for fast operations."
   ]
  },
  {
   "cell_type": "code",
   "execution_count": 2,
   "metadata": {},
   "outputs": [
    {
     "name": "stdout",
     "output_type": "stream",
     "text": [
      "[1 2 3 4 5]\n",
      "<class 'numpy.ndarray'>\n"
     ]
    }
   ],
   "source": [
    "# Create 1D array\n",
    "import numpy as np\n",
    "array_1d = np.array([1,2,3,4,5])\n",
    "print(array_1d)\n",
    "print(type(array_1d))"
   ]
  },
  {
   "cell_type": "code",
   "execution_count": 3,
   "metadata": {},
   "outputs": [
    {
     "name": "stdout",
     "output_type": "stream",
     "text": [
      "[[1 2 3]\n",
      " [4 5 6]]\n"
     ]
    }
   ],
   "source": [
    "# Create 2D array\n",
    "import numpy as np\n",
    "array_2d = np.array([[1,2,3],[4,5,6]])\n",
    "print(array_2d)"
   ]
  },
  {
   "cell_type": "code",
   "execution_count": 5,
   "metadata": {},
   "outputs": [
    {
     "name": "stdout",
     "output_type": "stream",
     "text": [
      "['1' '2' '3' '4' '5' 's' 'a']\n",
      "<class 'numpy.ndarray'>\n"
     ]
    }
   ],
   "source": [
    "import numpy as np\n",
    "d1 = [1,2,3,4,5,'s','a']\n",
    "array_1d = np.array(d1)\n",
    "print(array_1d)\n",
    "print(type(array_1d))"
   ]
  },
  {
   "cell_type": "code",
   "execution_count": 6,
   "metadata": {},
   "outputs": [
    {
     "name": "stdout",
     "output_type": "stream",
     "text": [
      "[ 0  1  2  3  4  5  6  7  8  9 10 11 12 13 14]\n",
      "<class 'numpy.ndarray'>\n"
     ]
    }
   ],
   "source": [
    "import numpy as np\n",
    "array_d = np.arange(15)\n",
    "print(array_d)\n",
    "#print(type(array_d))"
   ]
  },
  {
   "cell_type": "code",
   "execution_count": 7,
   "metadata": {},
   "outputs": [
    {
     "name": "stdout",
     "output_type": "stream",
     "text": [
      "[   0    1    2 ... 9997 9998 9999]\n"
     ]
    }
   ],
   "source": [
    "import numpy as np\n",
    "array_d = np.arange(10000)\n",
    "print(array_d)"
   ]
  },
  {
   "cell_type": "code",
   "execution_count": 9,
   "metadata": {},
   "outputs": [
    {
     "name": "stdout",
     "output_type": "stream",
     "text": [
      "[[   0    1    2 ...   97   98   99]\n",
      " [ 100  101  102 ...  197  198  199]\n",
      " [ 200  201  202 ...  297  298  299]\n",
      " ...\n",
      " [9700 9701 9702 ... 9797 9798 9799]\n",
      " [9800 9801 9802 ... 9897 9898 9899]\n",
      " [9900 9901 9902 ... 9997 9998 9999]]\n"
     ]
    }
   ],
   "source": [
    "import numpy as np\n",
    "a1 = np.arange(10000).reshape(100,100)\n",
    "print(a1)"
   ]
  },
  {
   "cell_type": "code",
   "execution_count": 10,
   "metadata": {},
   "outputs": [
    {
     "name": "stdout",
     "output_type": "stream",
     "text": [
      "[[[[1 0 1]\n",
      "   [1 1 0]\n",
      "   [1 0 0]]\n",
      "\n",
      "  [[0 1 1]\n",
      "   [0 1 0]\n",
      "   [1 0 0]]\n",
      "\n",
      "  [[1 0 0]\n",
      "   [1 0 1]\n",
      "   [0 0 0]]]\n",
      "\n",
      "\n",
      " [[[0 1 0]\n",
      "   [0 1 0]\n",
      "   [0 1 0]]\n",
      "\n",
      "  [[0 1 1]\n",
      "   [1 1 0]\n",
      "   [0 1 0]]\n",
      "\n",
      "  [[1 1 0]\n",
      "   [1 0 0]\n",
      "   [0 1 1]]]\n",
      "\n",
      "\n",
      " [[[0 0 0]\n",
      "   [0 1 1]\n",
      "   [0 0 1]]\n",
      "\n",
      "  [[1 1 0]\n",
      "   [0 1 1]\n",
      "   [0 0 0]]\n",
      "\n",
      "  [[1 1 1]\n",
      "   [0 1 1]\n",
      "   [0 1 1]]]]\n"
     ]
    }
   ],
   "source": [
    "import numpy as np\n",
    "ar1 = np.random.randint(0,2,size=(3,3,3,3))\n",
    "print(ar1)"
   ]
  },
  {
   "cell_type": "code",
   "execution_count": 12,
   "metadata": {},
   "outputs": [
    {
     "data": {
      "text/plain": [
       "1"
      ]
     },
     "execution_count": 12,
     "metadata": {},
     "output_type": "execute_result"
    }
   ],
   "source": [
    "ar1[2][2][2][1]"
   ]
  },
  {
   "cell_type": "code",
   "execution_count": 13,
   "metadata": {},
   "outputs": [
    {
     "name": "stdout",
     "output_type": "stream",
     "text": [
      "(3, 3, 3, 3)\n"
     ]
    }
   ],
   "source": [
    "print(ar1.shape)"
   ]
  },
  {
   "cell_type": "code",
   "execution_count": 14,
   "metadata": {},
   "outputs": [
    {
     "name": "stdout",
     "output_type": "stream",
     "text": [
      "int32\n"
     ]
    }
   ],
   "source": [
    "print(ar1.dtype)"
   ]
  },
  {
   "cell_type": "code",
   "execution_count": 15,
   "metadata": {},
   "outputs": [
    {
     "name": "stdout",
     "output_type": "stream",
     "text": [
      "4\n"
     ]
    }
   ],
   "source": [
    "print(ar1.itemsize)"
   ]
  },
  {
   "cell_type": "code",
   "execution_count": 16,
   "metadata": {},
   "outputs": [
    {
     "name": "stdout",
     "output_type": "stream",
     "text": [
      "<memory at 0x000001A0F79D5158>\n"
     ]
    }
   ],
   "source": [
    "print(ar1.data)"
   ]
  },
  {
   "cell_type": "code",
   "execution_count": 20,
   "metadata": {},
   "outputs": [
    {
     "name": "stdout",
     "output_type": "stream",
     "text": [
      "[[ 0  1  2  3  4]\n",
      " [ 5  6  7  8  9]\n",
      " [10 11 12 13 14]]\n"
     ]
    }
   ],
   "source": [
    "import numpy as np\n",
    "ar3 = np.arange(15).reshape(3,5)\n",
    "print(ar3)"
   ]
  },
  {
   "cell_type": "code",
   "execution_count": 21,
   "metadata": {},
   "outputs": [
    {
     "data": {
      "text/plain": [
       "6"
      ]
     },
     "execution_count": 21,
     "metadata": {},
     "output_type": "execute_result"
    }
   ],
   "source": [
    "ls = [1,2,[4,5,6]]\n",
    "ls[2][2]"
   ]
  },
  {
   "cell_type": "code",
   "execution_count": null,
   "metadata": {},
   "outputs": [],
   "source": []
  },
  {
   "cell_type": "code",
   "execution_count": null,
   "metadata": {},
   "outputs": [],
   "source": []
  }
 ],
 "metadata": {
  "kernelspec": {
   "display_name": "Python 3",
   "language": "python",
   "name": "python3"
  },
  "language_info": {
   "codemirror_mode": {
    "name": "ipython",
    "version": 3
   },
   "file_extension": ".py",
   "mimetype": "text/x-python",
   "name": "python",
   "nbconvert_exporter": "python",
   "pygments_lexer": "ipython3",
   "version": "3.7.6"
  }
 },
 "nbformat": 4,
 "nbformat_minor": 4
}
